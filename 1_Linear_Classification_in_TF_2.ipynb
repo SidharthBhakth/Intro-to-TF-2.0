{
  "nbformat": 4,
  "nbformat_minor": 0,
  "metadata": {
    "colab": {
      "name": "1. Linear Classification in TF 2.ipynb",
      "provenance": [],
      "collapsed_sections": [],
      "authorship_tag": "ABX9TyP8C/kxeHicfGDKS5EQonxn",
      "include_colab_link": true
    },
    "kernelspec": {
      "name": "python3",
      "display_name": "Python 3"
    }
  },
  "cells": [
    {
      "cell_type": "markdown",
      "metadata": {
        "id": "view-in-github",
        "colab_type": "text"
      },
      "source": [
        "<a href=\"https://colab.research.google.com/github/SidharthBhakth/Intro-to-TF-2.0/blob/master/1_Linear_Classification_in_TF_2.ipynb\" target=\"_parent\"><img src=\"https://colab.research.google.com/assets/colab-badge.svg\" alt=\"Open In Colab\"/></a>"
      ]
    },
    {
      "cell_type": "markdown",
      "metadata": {
        "id": "PKWv_h6KEPe2",
        "colab_type": "text"
      },
      "source": [
        "# **Linear Classification**\n",
        "\n",
        "Predict whether tumor is malignant or not using **logistic regression**."
      ]
    },
    {
      "cell_type": "code",
      "metadata": {
        "id": "XUtlixL2rLY2",
        "colab_type": "code",
        "colab": {}
      },
      "source": [
        "import numpy as np\n",
        "import matplotlib.pyplot as plt\n",
        "\n",
        "from tensorflow.keras.models import Sequential, load_model\n",
        "from tensorflow.keras.layers import Dense\n",
        "\n",
        "# Data\n",
        "from sklearn.datasets import load_breast_cancer\n",
        "\n",
        "from sklearn.model_selection import train_test_split\n",
        "from sklearn.preprocessing import StandardScaler\n",
        "\n",
        "from google.colab import files"
      ],
      "execution_count": 0,
      "outputs": []
    },
    {
      "cell_type": "code",
      "metadata": {
        "id": "VJewTnors8n3",
        "colab_type": "code",
        "outputId": "9960a05b-386e-40cd-d303-ed1d1f771669",
        "colab": {
          "base_uri": "https://localhost:8080/",
          "height": 34
        }
      },
      "source": [
        "# Load the data\n",
        "data = load_breast_cancer()\n",
        "type(data)"
      ],
      "execution_count": 2,
      "outputs": [
        {
          "output_type": "execute_result",
          "data": {
            "text/plain": [
              "sklearn.utils.Bunch"
            ]
          },
          "metadata": {
            "tags": []
          },
          "execution_count": 2
        }
      ]
    },
    {
      "cell_type": "code",
      "metadata": {
        "id": "-mUOACy8tS_V",
        "colab_type": "code",
        "outputId": "b1b4f37e-fe66-4aa2-eefa-ed3e038a0f34",
        "colab": {
          "base_uri": "https://localhost:8080/",
          "height": 34
        }
      },
      "source": [
        "data.keys()"
      ],
      "execution_count": 3,
      "outputs": [
        {
          "output_type": "execute_result",
          "data": {
            "text/plain": [
              "dict_keys(['data', 'target', 'target_names', 'DESCR', 'feature_names', 'filename'])"
            ]
          },
          "metadata": {
            "tags": []
          },
          "execution_count": 3
        }
      ]
    },
    {
      "cell_type": "code",
      "metadata": {
        "id": "mN11SShxC3sb",
        "colab_type": "code",
        "outputId": "3efe55b0-3193-4ba9-80c8-eab57c58b75a",
        "colab": {
          "base_uri": "https://localhost:8080/",
          "height": 50
        }
      },
      "source": [
        "print(data.data.shape)\n",
        "print(data.target.shape)"
      ],
      "execution_count": 4,
      "outputs": [
        {
          "output_type": "stream",
          "text": [
            "(569, 30)\n",
            "(569,)\n"
          ],
          "name": "stdout"
        }
      ]
    },
    {
      "cell_type": "code",
      "metadata": {
        "id": "EctkxllFDAkl",
        "colab_type": "code",
        "colab": {}
      },
      "source": [
        "# Split data in to train and test sets\n",
        "\n",
        "X_train, X_test, y_train, y_test = train_test_split(data.data, data.target, test_size=0.3)\n",
        "\n",
        "# N samples, D features\n",
        "N, D = X_train.shape"
      ],
      "execution_count": 0,
      "outputs": []
    },
    {
      "cell_type": "code",
      "metadata": {
        "id": "cqCHkRk3EJrb",
        "colab_type": "code",
        "colab": {}
      },
      "source": [
        "# Scale the data\n",
        "\n",
        "scaler = StandardScaler()\n",
        "\n",
        "X_train = scaler.fit_transform(X_train)\n",
        "X_test = scaler.transform(X_test)"
      ],
      "execution_count": 0,
      "outputs": []
    },
    {
      "cell_type": "code",
      "metadata": {
        "id": "qBf_w9JAE1Ng",
        "colab_type": "code",
        "colab": {}
      },
      "source": [
        "# Build the model\n",
        "\n",
        "model = Sequential()\n",
        "model.add(Dense(1, input_shape=(D,), activation='sigmoid'))\n",
        "\n",
        "model.compile(optimizer='adam',\n",
        "              loss='binary_crossentropy',\n",
        "              metrics=['accuracy'])"
      ],
      "execution_count": 0,
      "outputs": []
    },
    {
      "cell_type": "code",
      "metadata": {
        "id": "X-H1TjoIGutx",
        "colab_type": "code",
        "outputId": "11923af7-2c53-43b5-f8d1-faf72557f576",
        "colab": {
          "base_uri": "https://localhost:8080/",
          "height": 1000
        }
      },
      "source": [
        "# Train the model\n",
        "\n",
        "r = model.fit(X_train, y_train, validation_data=(X_test, y_test), epochs=100)"
      ],
      "execution_count": 8,
      "outputs": [
        {
          "output_type": "stream",
          "text": [
            "Epoch 1/100\n",
            "13/13 [==============================] - 0s 15ms/step - loss: 0.3552 - accuracy: 0.8744 - val_loss: 0.2794 - val_accuracy: 0.9298\n",
            "Epoch 2/100\n",
            "13/13 [==============================] - 0s 4ms/step - loss: 0.3355 - accuracy: 0.8844 - val_loss: 0.2618 - val_accuracy: 0.9298\n",
            "Epoch 3/100\n",
            "13/13 [==============================] - 0s 4ms/step - loss: 0.3173 - accuracy: 0.8869 - val_loss: 0.2463 - val_accuracy: 0.9298\n",
            "Epoch 4/100\n",
            "13/13 [==============================] - 0s 4ms/step - loss: 0.3020 - accuracy: 0.8869 - val_loss: 0.2331 - val_accuracy: 0.9357\n",
            "Epoch 5/100\n",
            "13/13 [==============================] - 0s 4ms/step - loss: 0.2871 - accuracy: 0.8894 - val_loss: 0.2211 - val_accuracy: 0.9357\n",
            "Epoch 6/100\n",
            "13/13 [==============================] - 0s 4ms/step - loss: 0.2741 - accuracy: 0.8995 - val_loss: 0.2105 - val_accuracy: 0.9474\n",
            "Epoch 7/100\n",
            "13/13 [==============================] - 0s 4ms/step - loss: 0.2621 - accuracy: 0.9020 - val_loss: 0.2012 - val_accuracy: 0.9474\n",
            "Epoch 8/100\n",
            "13/13 [==============================] - 0s 5ms/step - loss: 0.2509 - accuracy: 0.9020 - val_loss: 0.1924 - val_accuracy: 0.9474\n",
            "Epoch 9/100\n",
            "13/13 [==============================] - 0s 4ms/step - loss: 0.2404 - accuracy: 0.9095 - val_loss: 0.1848 - val_accuracy: 0.9649\n",
            "Epoch 10/100\n",
            "13/13 [==============================] - 0s 4ms/step - loss: 0.2312 - accuracy: 0.9146 - val_loss: 0.1777 - val_accuracy: 0.9649\n",
            "Epoch 11/100\n",
            "13/13 [==============================] - 0s 4ms/step - loss: 0.2226 - accuracy: 0.9171 - val_loss: 0.1713 - val_accuracy: 0.9708\n",
            "Epoch 12/100\n",
            "13/13 [==============================] - 0s 4ms/step - loss: 0.2152 - accuracy: 0.9221 - val_loss: 0.1655 - val_accuracy: 0.9708\n",
            "Epoch 13/100\n",
            "13/13 [==============================] - 0s 4ms/step - loss: 0.2080 - accuracy: 0.9296 - val_loss: 0.1600 - val_accuracy: 0.9708\n",
            "Epoch 14/100\n",
            "13/13 [==============================] - 0s 4ms/step - loss: 0.2014 - accuracy: 0.9296 - val_loss: 0.1548 - val_accuracy: 0.9708\n",
            "Epoch 15/100\n",
            "13/13 [==============================] - 0s 4ms/step - loss: 0.1955 - accuracy: 0.9347 - val_loss: 0.1501 - val_accuracy: 0.9708\n",
            "Epoch 16/100\n",
            "13/13 [==============================] - 0s 4ms/step - loss: 0.1897 - accuracy: 0.9347 - val_loss: 0.1459 - val_accuracy: 0.9766\n",
            "Epoch 17/100\n",
            "13/13 [==============================] - 0s 4ms/step - loss: 0.1842 - accuracy: 0.9372 - val_loss: 0.1420 - val_accuracy: 0.9766\n",
            "Epoch 18/100\n",
            "13/13 [==============================] - 0s 4ms/step - loss: 0.1792 - accuracy: 0.9397 - val_loss: 0.1382 - val_accuracy: 0.9825\n",
            "Epoch 19/100\n",
            "13/13 [==============================] - 0s 4ms/step - loss: 0.1743 - accuracy: 0.9397 - val_loss: 0.1347 - val_accuracy: 0.9825\n",
            "Epoch 20/100\n",
            "13/13 [==============================] - 0s 4ms/step - loss: 0.1699 - accuracy: 0.9397 - val_loss: 0.1315 - val_accuracy: 0.9825\n",
            "Epoch 21/100\n",
            "13/13 [==============================] - 0s 4ms/step - loss: 0.1660 - accuracy: 0.9422 - val_loss: 0.1284 - val_accuracy: 0.9825\n",
            "Epoch 22/100\n",
            "13/13 [==============================] - 0s 4ms/step - loss: 0.1622 - accuracy: 0.9422 - val_loss: 0.1254 - val_accuracy: 0.9825\n",
            "Epoch 23/100\n",
            "13/13 [==============================] - 0s 4ms/step - loss: 0.1589 - accuracy: 0.9422 - val_loss: 0.1227 - val_accuracy: 0.9825\n",
            "Epoch 24/100\n",
            "13/13 [==============================] - 0s 4ms/step - loss: 0.1550 - accuracy: 0.9447 - val_loss: 0.1201 - val_accuracy: 0.9825\n",
            "Epoch 25/100\n",
            "13/13 [==============================] - 0s 4ms/step - loss: 0.1519 - accuracy: 0.9447 - val_loss: 0.1175 - val_accuracy: 0.9825\n",
            "Epoch 26/100\n",
            "13/13 [==============================] - 0s 4ms/step - loss: 0.1490 - accuracy: 0.9497 - val_loss: 0.1153 - val_accuracy: 0.9825\n",
            "Epoch 27/100\n",
            "13/13 [==============================] - 0s 4ms/step - loss: 0.1460 - accuracy: 0.9497 - val_loss: 0.1130 - val_accuracy: 0.9825\n",
            "Epoch 28/100\n",
            "13/13 [==============================] - 0s 4ms/step - loss: 0.1434 - accuracy: 0.9523 - val_loss: 0.1109 - val_accuracy: 0.9825\n",
            "Epoch 29/100\n",
            "13/13 [==============================] - 0s 4ms/step - loss: 0.1406 - accuracy: 0.9523 - val_loss: 0.1089 - val_accuracy: 0.9883\n",
            "Epoch 30/100\n",
            "13/13 [==============================] - 0s 4ms/step - loss: 0.1383 - accuracy: 0.9523 - val_loss: 0.1069 - val_accuracy: 0.9883\n",
            "Epoch 31/100\n",
            "13/13 [==============================] - 0s 4ms/step - loss: 0.1359 - accuracy: 0.9523 - val_loss: 0.1049 - val_accuracy: 0.9883\n",
            "Epoch 32/100\n",
            "13/13 [==============================] - 0s 4ms/step - loss: 0.1337 - accuracy: 0.9573 - val_loss: 0.1031 - val_accuracy: 0.9883\n",
            "Epoch 33/100\n",
            "13/13 [==============================] - 0s 4ms/step - loss: 0.1317 - accuracy: 0.9648 - val_loss: 0.1015 - val_accuracy: 0.9942\n",
            "Epoch 34/100\n",
            "13/13 [==============================] - 0s 4ms/step - loss: 0.1296 - accuracy: 0.9673 - val_loss: 0.0999 - val_accuracy: 0.9942\n",
            "Epoch 35/100\n",
            "13/13 [==============================] - 0s 4ms/step - loss: 0.1278 - accuracy: 0.9698 - val_loss: 0.0985 - val_accuracy: 0.9942\n",
            "Epoch 36/100\n",
            "13/13 [==============================] - 0s 4ms/step - loss: 0.1259 - accuracy: 0.9698 - val_loss: 0.0971 - val_accuracy: 0.9942\n",
            "Epoch 37/100\n",
            "13/13 [==============================] - 0s 4ms/step - loss: 0.1242 - accuracy: 0.9698 - val_loss: 0.0958 - val_accuracy: 0.9942\n",
            "Epoch 38/100\n",
            "13/13 [==============================] - 0s 4ms/step - loss: 0.1226 - accuracy: 0.9698 - val_loss: 0.0942 - val_accuracy: 0.9942\n",
            "Epoch 39/100\n",
            "13/13 [==============================] - 0s 4ms/step - loss: 0.1212 - accuracy: 0.9698 - val_loss: 0.0933 - val_accuracy: 0.9942\n",
            "Epoch 40/100\n",
            "13/13 [==============================] - 0s 4ms/step - loss: 0.1196 - accuracy: 0.9698 - val_loss: 0.0919 - val_accuracy: 0.9942\n",
            "Epoch 41/100\n",
            "13/13 [==============================] - 0s 4ms/step - loss: 0.1182 - accuracy: 0.9698 - val_loss: 0.0908 - val_accuracy: 0.9942\n",
            "Epoch 42/100\n",
            "13/13 [==============================] - 0s 4ms/step - loss: 0.1169 - accuracy: 0.9698 - val_loss: 0.0897 - val_accuracy: 0.9942\n",
            "Epoch 43/100\n",
            "13/13 [==============================] - 0s 4ms/step - loss: 0.1157 - accuracy: 0.9698 - val_loss: 0.0884 - val_accuracy: 0.9942\n",
            "Epoch 44/100\n",
            "13/13 [==============================] - 0s 4ms/step - loss: 0.1144 - accuracy: 0.9698 - val_loss: 0.0873 - val_accuracy: 0.9942\n",
            "Epoch 45/100\n",
            "13/13 [==============================] - 0s 4ms/step - loss: 0.1133 - accuracy: 0.9698 - val_loss: 0.0862 - val_accuracy: 0.9942\n",
            "Epoch 46/100\n",
            "13/13 [==============================] - 0s 4ms/step - loss: 0.1121 - accuracy: 0.9698 - val_loss: 0.0852 - val_accuracy: 0.9942\n",
            "Epoch 47/100\n",
            "13/13 [==============================] - 0s 4ms/step - loss: 0.1110 - accuracy: 0.9698 - val_loss: 0.0843 - val_accuracy: 0.9942\n",
            "Epoch 48/100\n",
            "13/13 [==============================] - 0s 4ms/step - loss: 0.1099 - accuracy: 0.9698 - val_loss: 0.0834 - val_accuracy: 0.9942\n",
            "Epoch 49/100\n",
            "13/13 [==============================] - 0s 4ms/step - loss: 0.1089 - accuracy: 0.9698 - val_loss: 0.0825 - val_accuracy: 0.9942\n",
            "Epoch 50/100\n",
            "13/13 [==============================] - 0s 4ms/step - loss: 0.1079 - accuracy: 0.9698 - val_loss: 0.0817 - val_accuracy: 0.9942\n",
            "Epoch 51/100\n",
            "13/13 [==============================] - 0s 4ms/step - loss: 0.1070 - accuracy: 0.9698 - val_loss: 0.0808 - val_accuracy: 0.9942\n",
            "Epoch 52/100\n",
            "13/13 [==============================] - 0s 4ms/step - loss: 0.1060 - accuracy: 0.9698 - val_loss: 0.0800 - val_accuracy: 0.9942\n",
            "Epoch 53/100\n",
            "13/13 [==============================] - 0s 4ms/step - loss: 0.1052 - accuracy: 0.9698 - val_loss: 0.0793 - val_accuracy: 0.9942\n",
            "Epoch 54/100\n",
            "13/13 [==============================] - 0s 4ms/step - loss: 0.1043 - accuracy: 0.9698 - val_loss: 0.0786 - val_accuracy: 0.9942\n",
            "Epoch 55/100\n",
            "13/13 [==============================] - 0s 4ms/step - loss: 0.1035 - accuracy: 0.9724 - val_loss: 0.0779 - val_accuracy: 0.9942\n",
            "Epoch 56/100\n",
            "13/13 [==============================] - 0s 4ms/step - loss: 0.1027 - accuracy: 0.9724 - val_loss: 0.0771 - val_accuracy: 0.9942\n",
            "Epoch 57/100\n",
            "13/13 [==============================] - 0s 4ms/step - loss: 0.1019 - accuracy: 0.9724 - val_loss: 0.0764 - val_accuracy: 0.9942\n",
            "Epoch 58/100\n",
            "13/13 [==============================] - 0s 4ms/step - loss: 0.1013 - accuracy: 0.9749 - val_loss: 0.0756 - val_accuracy: 0.9942\n",
            "Epoch 59/100\n",
            "13/13 [==============================] - 0s 4ms/step - loss: 0.1005 - accuracy: 0.9749 - val_loss: 0.0751 - val_accuracy: 0.9942\n",
            "Epoch 60/100\n",
            "13/13 [==============================] - 0s 4ms/step - loss: 0.0998 - accuracy: 0.9749 - val_loss: 0.0747 - val_accuracy: 0.9942\n",
            "Epoch 61/100\n",
            "13/13 [==============================] - 0s 4ms/step - loss: 0.0991 - accuracy: 0.9774 - val_loss: 0.0742 - val_accuracy: 0.9942\n",
            "Epoch 62/100\n",
            "13/13 [==============================] - 0s 4ms/step - loss: 0.0984 - accuracy: 0.9774 - val_loss: 0.0735 - val_accuracy: 0.9942\n",
            "Epoch 63/100\n",
            "13/13 [==============================] - 0s 4ms/step - loss: 0.0978 - accuracy: 0.9774 - val_loss: 0.0732 - val_accuracy: 0.9942\n",
            "Epoch 64/100\n",
            "13/13 [==============================] - 0s 4ms/step - loss: 0.0971 - accuracy: 0.9774 - val_loss: 0.0727 - val_accuracy: 0.9942\n",
            "Epoch 65/100\n",
            "13/13 [==============================] - 0s 4ms/step - loss: 0.0965 - accuracy: 0.9774 - val_loss: 0.0723 - val_accuracy: 0.9942\n",
            "Epoch 66/100\n",
            "13/13 [==============================] - 0s 4ms/step - loss: 0.0960 - accuracy: 0.9774 - val_loss: 0.0715 - val_accuracy: 0.9942\n",
            "Epoch 67/100\n",
            "13/13 [==============================] - 0s 4ms/step - loss: 0.0953 - accuracy: 0.9799 - val_loss: 0.0713 - val_accuracy: 0.9942\n",
            "Epoch 68/100\n",
            "13/13 [==============================] - 0s 4ms/step - loss: 0.0948 - accuracy: 0.9799 - val_loss: 0.0709 - val_accuracy: 0.9942\n",
            "Epoch 69/100\n",
            "13/13 [==============================] - 0s 4ms/step - loss: 0.0942 - accuracy: 0.9799 - val_loss: 0.0704 - val_accuracy: 0.9942\n",
            "Epoch 70/100\n",
            "13/13 [==============================] - 0s 5ms/step - loss: 0.0937 - accuracy: 0.9774 - val_loss: 0.0701 - val_accuracy: 0.9942\n",
            "Epoch 71/100\n",
            "13/13 [==============================] - 0s 4ms/step - loss: 0.0932 - accuracy: 0.9774 - val_loss: 0.0697 - val_accuracy: 0.9942\n",
            "Epoch 72/100\n",
            "13/13 [==============================] - 0s 4ms/step - loss: 0.0926 - accuracy: 0.9774 - val_loss: 0.0692 - val_accuracy: 0.9942\n",
            "Epoch 73/100\n",
            "13/13 [==============================] - 0s 4ms/step - loss: 0.0921 - accuracy: 0.9774 - val_loss: 0.0688 - val_accuracy: 0.9942\n",
            "Epoch 74/100\n",
            "13/13 [==============================] - 0s 4ms/step - loss: 0.0916 - accuracy: 0.9774 - val_loss: 0.0686 - val_accuracy: 0.9942\n",
            "Epoch 75/100\n",
            "13/13 [==============================] - 0s 4ms/step - loss: 0.0912 - accuracy: 0.9774 - val_loss: 0.0681 - val_accuracy: 0.9942\n",
            "Epoch 76/100\n",
            "13/13 [==============================] - 0s 4ms/step - loss: 0.0906 - accuracy: 0.9774 - val_loss: 0.0677 - val_accuracy: 0.9942\n",
            "Epoch 77/100\n",
            "13/13 [==============================] - 0s 4ms/step - loss: 0.0903 - accuracy: 0.9774 - val_loss: 0.0674 - val_accuracy: 0.9883\n",
            "Epoch 78/100\n",
            "13/13 [==============================] - 0s 4ms/step - loss: 0.0898 - accuracy: 0.9774 - val_loss: 0.0670 - val_accuracy: 0.9883\n",
            "Epoch 79/100\n",
            "13/13 [==============================] - 0s 4ms/step - loss: 0.0893 - accuracy: 0.9774 - val_loss: 0.0667 - val_accuracy: 0.9883\n",
            "Epoch 80/100\n",
            "13/13 [==============================] - 0s 4ms/step - loss: 0.0889 - accuracy: 0.9774 - val_loss: 0.0665 - val_accuracy: 0.9883\n",
            "Epoch 81/100\n",
            "13/13 [==============================] - 0s 4ms/step - loss: 0.0885 - accuracy: 0.9774 - val_loss: 0.0662 - val_accuracy: 0.9883\n",
            "Epoch 82/100\n",
            "13/13 [==============================] - 0s 4ms/step - loss: 0.0881 - accuracy: 0.9774 - val_loss: 0.0658 - val_accuracy: 0.9883\n",
            "Epoch 83/100\n",
            "13/13 [==============================] - 0s 4ms/step - loss: 0.0877 - accuracy: 0.9774 - val_loss: 0.0655 - val_accuracy: 0.9883\n",
            "Epoch 84/100\n",
            "13/13 [==============================] - 0s 4ms/step - loss: 0.0874 - accuracy: 0.9774 - val_loss: 0.0650 - val_accuracy: 0.9883\n",
            "Epoch 85/100\n",
            "13/13 [==============================] - 0s 4ms/step - loss: 0.0869 - accuracy: 0.9774 - val_loss: 0.0646 - val_accuracy: 0.9883\n",
            "Epoch 86/100\n",
            "13/13 [==============================] - 0s 5ms/step - loss: 0.0865 - accuracy: 0.9774 - val_loss: 0.0643 - val_accuracy: 0.9883\n",
            "Epoch 87/100\n",
            "13/13 [==============================] - 0s 4ms/step - loss: 0.0862 - accuracy: 0.9774 - val_loss: 0.0642 - val_accuracy: 0.9883\n",
            "Epoch 88/100\n",
            "13/13 [==============================] - 0s 4ms/step - loss: 0.0859 - accuracy: 0.9774 - val_loss: 0.0639 - val_accuracy: 0.9883\n",
            "Epoch 89/100\n",
            "13/13 [==============================] - 0s 4ms/step - loss: 0.0854 - accuracy: 0.9774 - val_loss: 0.0636 - val_accuracy: 0.9883\n",
            "Epoch 90/100\n",
            "13/13 [==============================] - 0s 4ms/step - loss: 0.0852 - accuracy: 0.9774 - val_loss: 0.0631 - val_accuracy: 0.9883\n",
            "Epoch 91/100\n",
            "13/13 [==============================] - 0s 4ms/step - loss: 0.0848 - accuracy: 0.9774 - val_loss: 0.0628 - val_accuracy: 0.9883\n",
            "Epoch 92/100\n",
            "13/13 [==============================] - 0s 4ms/step - loss: 0.0845 - accuracy: 0.9774 - val_loss: 0.0626 - val_accuracy: 0.9883\n",
            "Epoch 93/100\n",
            "13/13 [==============================] - 0s 4ms/step - loss: 0.0842 - accuracy: 0.9774 - val_loss: 0.0623 - val_accuracy: 0.9883\n",
            "Epoch 94/100\n",
            "13/13 [==============================] - 0s 4ms/step - loss: 0.0839 - accuracy: 0.9774 - val_loss: 0.0623 - val_accuracy: 0.9883\n",
            "Epoch 95/100\n",
            "13/13 [==============================] - 0s 4ms/step - loss: 0.0835 - accuracy: 0.9774 - val_loss: 0.0619 - val_accuracy: 0.9883\n",
            "Epoch 96/100\n",
            "13/13 [==============================] - 0s 4ms/step - loss: 0.0832 - accuracy: 0.9774 - val_loss: 0.0616 - val_accuracy: 0.9883\n",
            "Epoch 97/100\n",
            "13/13 [==============================] - 0s 4ms/step - loss: 0.0829 - accuracy: 0.9774 - val_loss: 0.0614 - val_accuracy: 0.9883\n",
            "Epoch 98/100\n",
            "13/13 [==============================] - 0s 5ms/step - loss: 0.0826 - accuracy: 0.9774 - val_loss: 0.0612 - val_accuracy: 0.9883\n",
            "Epoch 99/100\n",
            "13/13 [==============================] - 0s 4ms/step - loss: 0.0823 - accuracy: 0.9774 - val_loss: 0.0610 - val_accuracy: 0.9883\n",
            "Epoch 100/100\n",
            "13/13 [==============================] - 0s 4ms/step - loss: 0.0820 - accuracy: 0.9774 - val_loss: 0.0609 - val_accuracy: 0.9883\n"
          ],
          "name": "stdout"
        }
      ]
    },
    {
      "cell_type": "code",
      "metadata": {
        "id": "FEejQnHHHQ2t",
        "colab_type": "code",
        "outputId": "b13edb57-d624-4309-e46d-d8fb25b47f19",
        "colab": {
          "base_uri": "https://localhost:8080/",
          "height": 104
        }
      },
      "source": [
        "# Evaluate the model - evaluate() returns loss and accuracy\n",
        "\n",
        "print(\"Train score:\", model.evaluate(X_train, y_train))\n",
        "print(\"Test score:\", model.evaluate(X_test, y_test))"
      ],
      "execution_count": 9,
      "outputs": [
        {
          "output_type": "stream",
          "text": [
            "13/13 [==============================] - 0s 1ms/step - loss: 0.0818 - accuracy: 0.9774\n",
            "Train score: [0.08183445036411285, 0.9773869514465332]\n",
            "6/6 [==============================] - 0s 1ms/step - loss: 0.0609 - accuracy: 0.9883\n",
            "Test score: [0.06085318699479103, 0.988304078578949]\n"
          ],
          "name": "stdout"
        }
      ]
    },
    {
      "cell_type": "code",
      "metadata": {
        "id": "2hU64_PSID7u",
        "colab_type": "code",
        "outputId": "ec689c64-eeff-4a0a-e710-b8c8828fc289",
        "colab": {
          "base_uri": "https://localhost:8080/",
          "height": 34
        }
      },
      "source": [
        "r.history.keys()"
      ],
      "execution_count": 10,
      "outputs": [
        {
          "output_type": "execute_result",
          "data": {
            "text/plain": [
              "dict_keys(['loss', 'accuracy', 'val_loss', 'val_accuracy'])"
            ]
          },
          "metadata": {
            "tags": []
          },
          "execution_count": 10
        }
      ]
    },
    {
      "cell_type": "code",
      "metadata": {
        "id": "069js7MZHsSz",
        "colab_type": "code",
        "outputId": "fe4691e8-e2df-4ba8-e909-6e9a0c41934e",
        "colab": {
          "base_uri": "https://localhost:8080/",
          "height": 279
        }
      },
      "source": [
        "# Plot train and validation loss curves\n",
        "plt.plot(r.history['loss'], label='Train Loss')\n",
        "plt.plot(r.history['val_loss'], label='Validation Loss')\n",
        "plt.xlabel('Epochs')\n",
        "plt.ylabel('Loss')\n",
        "plt.legend()\n",
        "plt.show()"
      ],
      "execution_count": 11,
      "outputs": [
        {
          "output_type": "display_data",
          "data": {
            "image/png": "[encoded data removed]",
            "text/plain": [
              "<Figure size 432x288 with 1 Axes>"
            ]
          },
          "metadata": {
            "tags": [],
            "needs_background": "light"
          }
        }
      ]
    },
    {
      "cell_type": "code",
      "metadata": {
        "id": "t0ALOLYjI5FF",
        "colab_type": "code",
        "outputId": "f0e43a97-8541-49f9-c993-eaba08328806",
        "colab": {
          "base_uri": "https://localhost:8080/",
          "height": 283
        }
      },
      "source": [
        "# Plot train and validation accuracy\n",
        "plt.plot(r.history['accuracy'], label='Train Accuracy')\n",
        "plt.plot(r.history['val_accuracy'], label='Validation Accuracy')\n",
        "plt.xlabel('Epochs')\n",
        "plt.ylabel('Accuracy')\n",
        "plt.legend()\n",
        "plt.show()"
      ],
      "execution_count": 12,
      "outputs": [
        {
          "output_type": "display_data",
          "data": {
            "image/png": "[encoded data removed]",
            "text/plain": [
              "<Figure size 432x288 with 1 Axes>"
            ]
          },
          "metadata": {
            "tags": [],
            "needs_background": "light"
          }
        }
      ]
    },
    {
      "cell_type": "code",
      "metadata": {
        "id": "IeI9_k1QRMBS",
        "colab_type": "code",
        "colab": {
          "base_uri": "https://localhost:8080/",
          "height": 151
        },
        "outputId": "c49fc61b-4b46-4aad-ccd4-92b93dfdc0e8"
      },
      "source": [
        "# Make predictions\n",
        "P = model.predict(X_test)\n",
        "\n",
        "# Round to get actual predictions\n",
        "P = np.round(P).flatten()\n",
        "\n",
        "print(P)"
      ],
      "execution_count": 13,
      "outputs": [
        {
          "output_type": "stream",
          "text": [
            "[1. 0. 0. 1. 1. 1. 0. 1. 1. 1. 1. 1. 1. 1. 1. 0. 1. 0. 1. 1. 1. 1. 0. 0.\n",
            " 0. 1. 0. 1. 0. 1. 0. 1. 1. 0. 1. 1. 1. 1. 0. 0. 1. 0. 0. 1. 1. 1. 1. 0.\n",
            " 1. 1. 1. 1. 0. 1. 0. 1. 1. 1. 1. 1. 1. 1. 1. 0. 1. 1. 1. 1. 1. 1. 1. 1.\n",
            " 1. 0. 1. 1. 0. 1. 0. 1. 1. 0. 0. 1. 1. 1. 1. 1. 1. 0. 1. 1. 1. 1. 1. 0.\n",
            " 0. 1. 0. 1. 1. 1. 1. 0. 1. 1. 1. 1. 1. 1. 0. 1. 0. 0. 0. 0. 1. 0. 0. 1.\n",
            " 1. 0. 0. 1. 1. 1. 0. 0. 1. 0. 1. 1. 1. 1. 0. 1. 0. 1. 1. 0. 0. 1. 1. 1.\n",
            " 0. 1. 1. 0. 0. 1. 0. 0. 1. 0. 0. 0. 1. 0. 1. 0. 1. 1. 1. 0. 1. 1. 1. 1.\n",
            " 1. 0. 1.]\n"
          ],
          "name": "stdout"
        }
      ]
    },
    {
      "cell_type": "code",
      "metadata": {
        "id": "n3Jah75vSz4M",
        "colab_type": "code",
        "colab": {
          "base_uri": "https://localhost:8080/",
          "height": 87
        },
        "outputId": "1e809809-fcd2-4539-d697-cefc4acfae9f"
      },
      "source": [
        "# Calculate accuracy\n",
        "print(\"Accuracy {}%\".format(np.round(np.mean(P == y_test)*100, 2)))\n",
        "print(\"Evaluate output:\", model.evaluate(X_test, y_test))"
      ],
      "execution_count": 14,
      "outputs": [
        {
          "output_type": "stream",
          "text": [
            "Accuracy 98.83%\n",
            "6/6 [==============================] - 0s 2ms/step - loss: 0.0609 - accuracy: 0.9883\n",
            "Evaluate output: [0.06085318699479103, 0.988304078578949]\n"
          ],
          "name": "stdout"
        }
      ]
    },
    {
      "cell_type": "markdown",
      "metadata": {
        "id": "onCExg-YBO2F",
        "colab_type": "text"
      },
      "source": [
        "### Saving and loading the model"
      ]
    },
    {
      "cell_type": "code",
      "metadata": {
        "id": "t85vwdZBBT_n",
        "colab_type": "code",
        "colab": {
          "base_uri": "https://localhost:8080/",
          "height": 67
        },
        "outputId": "6a3a5900-dbf1-4c22-8f14-9f3e38bca639"
      },
      "source": [
        "# Save model to a file\n",
        "model.save('linearclassifier.h5')\n",
        "\n",
        "# Check if model exists in directory\n",
        "!ls -lh"
      ],
      "execution_count": 15,
      "outputs": [
        {
          "output_type": "stream",
          "text": [
            "total 24K\n",
            "-rw-r--r-- 1 root root  19K May 11 00:02 linearclassifier.h5\n",
            "drwxr-xr-x 1 root root 4.0K May  4 16:26 sample_data\n"
          ],
          "name": "stdout"
        }
      ]
    },
    {
      "cell_type": "code",
      "metadata": {
        "id": "G-uBImYsBvTE",
        "colab_type": "code",
        "colab": {
          "base_uri": "https://localhost:8080/",
          "height": 87
        },
        "outputId": "0b01f3f1-dd9b-405d-ccdb-dd70fc440ca5"
      },
      "source": [
        "# Load model from file\n",
        "model = load_model('linearclassifier.h5')\n",
        "print(model.layers)\n",
        "model.evaluate(X_test, y_test)"
      ],
      "execution_count": 16,
      "outputs": [
        {
          "output_type": "stream",
          "text": [
            "[<tensorflow.python.keras.layers.core.Dense object at 0x7fef4a6240b8>]\n",
            "6/6 [==============================] - 0s 1ms/step - loss: 0.0609 - accuracy: 0.9883\n"
          ],
          "name": "stdout"
        },
        {
          "output_type": "execute_result",
          "data": {
            "text/plain": [
              "[0.06085318699479103, 0.988304078578949]"
            ]
          },
          "metadata": {
            "tags": []
          },
          "execution_count": 16
        }
      ]
    },
    {
      "cell_type": "code",
      "metadata": {
        "id": "aNzfan75CLe8",
        "colab_type": "code",
        "colab": {}
      },
      "source": [
        "# Download model file from colab\n",
        "files.download('linearclassifier.h5')"
      ],
      "execution_count": 0,
      "outputs": []
    }
  ]
}