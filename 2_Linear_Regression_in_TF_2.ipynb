{
  "nbformat": 4,
  "nbformat_minor": 0,
  "metadata": {
    "colab": {
      "name": "2. Linear Regression in TF 2.ipynb",
      "provenance": [],
      "collapsed_sections": [],
      "authorship_tag": "ABX9TyPkAmHVMU+xHNUdIzU5XPG8",
      "include_colab_link": true
    },
    "kernelspec": {
      "name": "python3",
      "display_name": "Python 3"
    }
  },
  "cells": [
    {
      "cell_type": "markdown",
      "metadata": {
        "id": "view-in-github",
        "colab_type": "text"
      },
      "source": [
        "<a href=\"https://colab.research.google.com/github/SidharthBhakth/Intro-to-TF-2.0/blob/master/2_Linear_Regression_in_TF_2.ipynb\" target=\"_parent\"><img src=\"https://colab.research.google.com/assets/colab-badge.svg\" alt=\"Open In Colab\"/></a>"
      ]
    },
    {
      "cell_type": "markdown",
      "metadata": {
        "id": "8FaQ_rGDewlt",
        "colab_type": "text"
      },
      "source": [
        "# **Linear Regression**\n",
        "\n",
        "Model Moore's law (the number of transistors in a doubles about every two years) using **linear regression**."
      ]
    },
    {
      "cell_type": "code",
      "metadata": {
        "id": "08arribhe5x3",
        "colab_type": "code",
        "colab": {}
      },
      "source": [
        "import numpy as np\n",
        "\n",
        "import pandas as pd\n",
        "\n",
        "import matplotlib.pyplot as plt\n",
        "\n",
        "from tensorflow.keras.models import Sequential\n",
        "from tensorflow.keras.layers import Dense\n",
        "from tensorflow.keras.optimizers import SGD\n",
        "from tensorflow.keras.callbacks import LearningRateScheduler"
      ],
      "execution_count": 0,
      "outputs": []
    },
    {
      "cell_type": "code",
      "metadata": {
        "id": "FyIZHKDIfkVF",
        "colab_type": "code",
        "colab": {
          "base_uri": "https://localhost:8080/",
          "height": 222
        },
        "outputId": "54788806-e430-4943-a904-8eb17c8eceeb"
      },
      "source": [
        "# Load in the data\n",
        "!wget https://raw.githubusercontent.com/lazyprogrammer/machine_learning_examples/master/tf2.0/moore.csv\n",
        "\n",
        "data = pd.read_csv('moore.csv', header=None).values"
      ],
      "execution_count": 2,
      "outputs": [
        {
          "output_type": "stream",
          "text": [
            "--2020-05-10 23:53:16--  https://raw.githubusercontent.com/lazyprogrammer/machine_learning_examples/master/tf2.0/moore.csv\n",
            "Resolving raw.githubusercontent.com (raw.githubusercontent.com)... 151.101.0.133, 151.101.64.133, 151.101.128.133, ...\n",
            "Connecting to raw.githubusercontent.com (raw.githubusercontent.com)|151.101.0.133|:443... connected.\n",
            "HTTP request sent, awaiting response... 200 OK\n",
            "Length: 2302 (2.2K) [text/plain]\n",
            "Saving to: ‘moore.csv.2’\n",
            "\n",
            "\rmoore.csv.2           0%[                    ]       0  --.-KB/s               \rmoore.csv.2         100%[===================>]   2.25K  --.-KB/s    in 0s      \n",
            "\n",
            "2020-05-10 23:53:16 (41.3 MB/s) - ‘moore.csv.2’ saved [2302/2302]\n",
            "\n"
          ],
          "name": "stdout"
        }
      ]
    },
    {
      "cell_type": "code",
      "metadata": {
        "id": "pkh3Auc4frSN",
        "colab_type": "code",
        "colab": {}
      },
      "source": [
        "X = data[:,0].reshape(-1,1) #transform to a 2-D array of size N x D where D=1\n",
        "Y = data[:,1]"
      ],
      "execution_count": 0,
      "outputs": []
    },
    {
      "cell_type": "code",
      "metadata": {
        "id": "RX0KvlnjgbZX",
        "colab_type": "code",
        "colab": {
          "base_uri": "https://localhost:8080/",
          "height": 276
        },
        "outputId": "b77b71d2-b5c7-4f6c-9e11-39a634d49dda"
      },
      "source": [
        "# Plot the data - it is exponential\n",
        "plt.scatter(X, Y)\n",
        "plt.show()"
      ],
      "execution_count": 4,
      "outputs": [
        {
          "output_type": "display_data",
          "data": {
            "image/png": "[encoded data removed]",
            "text/plain": [
              "<Figure size 432x288 with 1 Axes>"
            ]
          },
          "metadata": {
            "tags": [],
            "needs_background": "light"
          }
        }
      ]
    },
    {
      "cell_type": "code",
      "metadata": {
        "id": "aCkWUUMwg-Go",
        "colab_type": "code",
        "colab": {
          "base_uri": "https://localhost:8080/",
          "height": 265
        },
        "outputId": "96533f4b-4cf5-48ce-cdd5-846fceb1798d"
      },
      "source": [
        "# Apply log transformation to Y and plot\n",
        "Y = np.log(Y)\n",
        "\n",
        "plt.scatter(X, Y)\n",
        "plt.show()"
      ],
      "execution_count": 5,
      "outputs": [
        {
          "output_type": "display_data",
          "data": {
            "image/png": "[encoded data removed]",
            "text/plain": [
              "<Figure size 432x288 with 1 Axes>"
            ]
          },
          "metadata": {
            "tags": [],
            "needs_background": "light"
          }
        }
      ]
    },
    {
      "cell_type": "code",
      "metadata": {
        "id": "mKbY8gujl0Xr",
        "colab_type": "code",
        "colab": {}
      },
      "source": [
        "# Center X data\n",
        "X = X - X.mean()"
      ],
      "execution_count": 0,
      "outputs": []
    },
    {
      "cell_type": "code",
      "metadata": {
        "id": "-tPkPW47hnq9",
        "colab_type": "code",
        "colab": {}
      },
      "source": [
        "# Build the model\n",
        "\n",
        "model = Sequential()\n",
        "\n",
        "model.add(Dense(1, input_shape=(1,)))\n",
        "\n",
        "# Compile\n",
        "model.compile(optimizer=SGD(0.001, 0.9), loss='mse')\n",
        "\n",
        "# Learning rate scheduler\n",
        "def schedule(epoch, lr):\n",
        "  if epoch >= 50:\n",
        "    return 0.0001\n",
        "  return 0.001\n",
        "\n",
        "scheduler = LearningRateScheduler(schedule)"
      ],
      "execution_count": 0,
      "outputs": []
    },
    {
      "cell_type": "code",
      "metadata": {
        "id": "ecy49neflbuW",
        "colab_type": "code",
        "colab": {
          "base_uri": "https://localhost:8080/",
          "height": 1000
        },
        "outputId": "4b84d1a8-3a86-4523-de61-c48002adbefd"
      },
      "source": [
        "# Train the model\n",
        "r = model.fit(X, Y, epochs=200, callbacks=[scheduler])"
      ],
      "execution_count": 8,
      "outputs": [
        {
          "output_type": "stream",
          "text": [
            "Epoch 1/200\n",
            "6/6 [==============================] - 0s 2ms/step - loss: 659.5116 - lr: 0.0010\n",
            "Epoch 2/200\n",
            "6/6 [==============================] - 0s 1ms/step - loss: 590.2292 - lr: 0.0010\n",
            "Epoch 3/200\n",
            "6/6 [==============================] - 0s 1ms/step - loss: 382.5877 - lr: 0.0010\n",
            "Epoch 4/200\n",
            "6/6 [==============================] - 0s 1ms/step - loss: 213.8169 - lr: 0.0010\n",
            "Epoch 5/200\n",
            "6/6 [==============================] - 0s 1ms/step - loss: 281.4702 - lr: 0.0010\n",
            "Epoch 6/200\n",
            "6/6 [==============================] - 0s 1ms/step - loss: 220.2218 - lr: 0.0010\n",
            "Epoch 7/200\n",
            "6/6 [==============================] - 0s 1ms/step - loss: 283.6161 - lr: 0.0010\n",
            "Epoch 8/200\n",
            "6/6 [==============================] - 0s 1ms/step - loss: 116.3295 - lr: 0.0010\n",
            "Epoch 9/200\n",
            "6/6 [==============================] - 0s 1ms/step - loss: 102.9397 - lr: 0.0010\n",
            "Epoch 10/200\n",
            "6/6 [==============================] - 0s 1ms/step - loss: 92.6933 - lr: 0.0010\n",
            "Epoch 11/200\n",
            "6/6 [==============================] - 0s 1ms/step - loss: 56.9634 - lr: 0.0010\n",
            "Epoch 12/200\n",
            "6/6 [==============================] - 0s 1ms/step - loss: 24.1888 - lr: 0.0010\n",
            "Epoch 13/200\n",
            "6/6 [==============================] - 0s 1ms/step - loss: 20.0661 - lr: 0.0010\n",
            "Epoch 14/200\n",
            "6/6 [==============================] - 0s 2ms/step - loss: 10.1788 - lr: 0.0010\n",
            "Epoch 15/200\n",
            "6/6 [==============================] - 0s 1ms/step - loss: 8.8295 - lr: 0.0010\n",
            "Epoch 16/200\n",
            "6/6 [==============================] - 0s 1ms/step - loss: 6.1903 - lr: 0.0010\n",
            "Epoch 17/200\n",
            "6/6 [==============================] - 0s 1ms/step - loss: 5.2709 - lr: 0.0010\n",
            "Epoch 18/200\n",
            "6/6 [==============================] - 0s 2ms/step - loss: 4.0814 - lr: 0.0010\n",
            "Epoch 19/200\n",
            "6/6 [==============================] - 0s 2ms/step - loss: 2.8228 - lr: 0.0010\n",
            "Epoch 20/200\n",
            "6/6 [==============================] - 0s 1ms/step - loss: 2.2525 - lr: 0.0010\n",
            "Epoch 21/200\n",
            "6/6 [==============================] - 0s 1ms/step - loss: 1.9382 - lr: 0.0010\n",
            "Epoch 22/200\n",
            "6/6 [==============================] - 0s 2ms/step - loss: 2.2955 - lr: 0.0010\n",
            "Epoch 23/200\n",
            "6/6 [==============================] - 0s 1ms/step - loss: 2.9481 - lr: 0.0010\n",
            "Epoch 24/200\n",
            "6/6 [==============================] - 0s 2ms/step - loss: 1.8075 - lr: 0.0010\n",
            "Epoch 25/200\n",
            "6/6 [==============================] - 0s 2ms/step - loss: 2.3313 - lr: 0.0010\n",
            "Epoch 26/200\n",
            "6/6 [==============================] - 0s 2ms/step - loss: 1.1744 - lr: 0.0010\n",
            "Epoch 27/200\n",
            "6/6 [==============================] - 0s 1ms/step - loss: 1.1321 - lr: 0.0010\n",
            "Epoch 28/200\n",
            "6/6 [==============================] - 0s 1ms/step - loss: 2.2527 - lr: 0.0010\n",
            "Epoch 29/200\n",
            "6/6 [==============================] - 0s 1ms/step - loss: 1.5062 - lr: 0.0010\n",
            "Epoch 30/200\n",
            "6/6 [==============================] - 0s 1ms/step - loss: 1.1152 - lr: 0.0010\n",
            "Epoch 31/200\n",
            "6/6 [==============================] - 0s 1ms/step - loss: 0.9334 - lr: 0.0010\n",
            "Epoch 32/200\n",
            "6/6 [==============================] - 0s 1ms/step - loss: 0.9474 - lr: 0.0010\n",
            "Epoch 33/200\n",
            "6/6 [==============================] - 0s 1ms/step - loss: 1.0251 - lr: 0.0010\n",
            "Epoch 34/200\n",
            "6/6 [==============================] - 0s 1ms/step - loss: 1.0833 - lr: 0.0010\n",
            "Epoch 35/200\n",
            "6/6 [==============================] - 0s 2ms/step - loss: 0.9316 - lr: 0.0010\n",
            "Epoch 36/200\n",
            "6/6 [==============================] - 0s 2ms/step - loss: 1.0967 - lr: 0.0010\n",
            "Epoch 37/200\n",
            "6/6 [==============================] - 0s 1ms/step - loss: 1.1000 - lr: 0.0010\n",
            "Epoch 38/200\n",
            "6/6 [==============================] - 0s 1ms/step - loss: 0.9201 - lr: 0.0010\n",
            "Epoch 39/200\n",
            "6/6 [==============================] - 0s 1ms/step - loss: 0.9409 - lr: 0.0010\n",
            "Epoch 40/200\n",
            "6/6 [==============================] - 0s 1ms/step - loss: 0.9052 - lr: 0.0010\n",
            "Epoch 41/200\n",
            "6/6 [==============================] - 0s 1ms/step - loss: 0.9053 - lr: 0.0010\n",
            "Epoch 42/200\n",
            "6/6 [==============================] - 0s 2ms/step - loss: 1.0494 - lr: 0.0010\n",
            "Epoch 43/200\n",
            "6/6 [==============================] - 0s 1ms/step - loss: 0.9928 - lr: 0.0010\n",
            "Epoch 44/200\n",
            "6/6 [==============================] - 0s 2ms/step - loss: 0.9512 - lr: 0.0010\n",
            "Epoch 45/200\n",
            "6/6 [==============================] - 0s 1ms/step - loss: 0.9750 - lr: 0.0010\n",
            "Epoch 46/200\n",
            "6/6 [==============================] - 0s 1ms/step - loss: 1.1613 - lr: 0.0010\n",
            "Epoch 47/200\n",
            "6/6 [==============================] - 0s 1ms/step - loss: 0.9921 - lr: 0.0010\n",
            "Epoch 48/200\n",
            "6/6 [==============================] - 0s 1ms/step - loss: 0.8993 - lr: 0.0010\n",
            "Epoch 49/200\n",
            "6/6 [==============================] - 0s 1ms/step - loss: 1.0473 - lr: 0.0010\n",
            "Epoch 50/200\n",
            "6/6 [==============================] - 0s 2ms/step - loss: 1.0201 - lr: 0.0010\n",
            "Epoch 51/200\n",
            "6/6 [==============================] - 0s 1ms/step - loss: 1.3750 - lr: 1.0000e-04\n",
            "Epoch 52/200\n",
            "6/6 [==============================] - 0s 2ms/step - loss: 1.1516 - lr: 1.0000e-04\n",
            "Epoch 53/200\n",
            "6/6 [==============================] - 0s 1ms/step - loss: 0.8680 - lr: 1.0000e-04\n",
            "Epoch 54/200\n",
            "6/6 [==============================] - 0s 1ms/step - loss: 0.9497 - lr: 1.0000e-04\n",
            "Epoch 55/200\n",
            "6/6 [==============================] - 0s 2ms/step - loss: 0.8940 - lr: 1.0000e-04\n",
            "Epoch 56/200\n",
            "6/6 [==============================] - 0s 2ms/step - loss: 0.8794 - lr: 1.0000e-04\n",
            "Epoch 57/200\n",
            "6/6 [==============================] - 0s 2ms/step - loss: 0.8823 - lr: 1.0000e-04\n",
            "Epoch 58/200\n",
            "6/6 [==============================] - 0s 1ms/step - loss: 0.8706 - lr: 1.0000e-04\n",
            "Epoch 59/200\n",
            "6/6 [==============================] - 0s 1ms/step - loss: 0.8711 - lr: 1.0000e-04\n",
            "Epoch 60/200\n",
            "6/6 [==============================] - 0s 1ms/step - loss: 0.8713 - lr: 1.0000e-04\n",
            "Epoch 61/200\n",
            "6/6 [==============================] - 0s 2ms/step - loss: 0.8733 - lr: 1.0000e-04\n",
            "Epoch 62/200\n",
            "6/6 [==============================] - 0s 2ms/step - loss: 0.8702 - lr: 1.0000e-04\n",
            "Epoch 63/200\n",
            "6/6 [==============================] - 0s 2ms/step - loss: 0.8955 - lr: 1.0000e-04\n",
            "Epoch 64/200\n",
            "6/6 [==============================] - 0s 2ms/step - loss: 0.9198 - lr: 1.0000e-04\n",
            "Epoch 65/200\n",
            "6/6 [==============================] - 0s 1ms/step - loss: 0.8814 - lr: 1.0000e-04\n",
            "Epoch 66/200\n",
            "6/6 [==============================] - 0s 1ms/step - loss: 0.8726 - lr: 1.0000e-04\n",
            "Epoch 67/200\n",
            "6/6 [==============================] - 0s 1ms/step - loss: 0.8814 - lr: 1.0000e-04\n",
            "Epoch 68/200\n",
            "6/6 [==============================] - 0s 1ms/step - loss: 0.8708 - lr: 1.0000e-04\n",
            "Epoch 69/200\n",
            "6/6 [==============================] - 0s 2ms/step - loss: 0.8787 - lr: 1.0000e-04\n",
            "Epoch 70/200\n",
            "6/6 [==============================] - 0s 2ms/step - loss: 0.9519 - lr: 1.0000e-04\n",
            "Epoch 71/200\n",
            "6/6 [==============================] - 0s 1ms/step - loss: 0.8820 - lr: 1.0000e-04\n",
            "Epoch 72/200\n",
            "6/6 [==============================] - 0s 2ms/step - loss: 0.8845 - lr: 1.0000e-04\n",
            "Epoch 73/200\n",
            "6/6 [==============================] - 0s 1ms/step - loss: 0.8894 - lr: 1.0000e-04\n",
            "Epoch 74/200\n",
            "6/6 [==============================] - 0s 1ms/step - loss: 0.8680 - lr: 1.0000e-04\n",
            "Epoch 75/200\n",
            "6/6 [==============================] - 0s 1ms/step - loss: 0.8791 - lr: 1.0000e-04\n",
            "Epoch 76/200\n",
            "6/6 [==============================] - 0s 2ms/step - loss: 0.8862 - lr: 1.0000e-04\n",
            "Epoch 77/200\n",
            "6/6 [==============================] - 0s 1ms/step - loss: 0.8826 - lr: 1.0000e-04\n",
            "Epoch 78/200\n",
            "6/6 [==============================] - 0s 1ms/step - loss: 0.8727 - lr: 1.0000e-04\n",
            "Epoch 79/200\n",
            "6/6 [==============================] - 0s 2ms/step - loss: 0.8880 - lr: 1.0000e-04\n",
            "Epoch 80/200\n",
            "6/6 [==============================] - 0s 2ms/step - loss: 0.8977 - lr: 1.0000e-04\n",
            "Epoch 81/200\n",
            "6/6 [==============================] - 0s 1ms/step - loss: 0.8815 - lr: 1.0000e-04\n",
            "Epoch 82/200\n",
            "6/6 [==============================] - 0s 2ms/step - loss: 0.8700 - lr: 1.0000e-04\n",
            "Epoch 83/200\n",
            "6/6 [==============================] - 0s 1ms/step - loss: 0.8797 - lr: 1.0000e-04\n",
            "Epoch 84/200\n",
            "6/6 [==============================] - 0s 1ms/step - loss: 0.8834 - lr: 1.0000e-04\n",
            "Epoch 85/200\n",
            "6/6 [==============================] - 0s 1ms/step - loss: 0.8719 - lr: 1.0000e-04\n",
            "Epoch 86/200\n",
            "6/6 [==============================] - 0s 2ms/step - loss: 0.9089 - lr: 1.0000e-04\n",
            "Epoch 87/200\n",
            "6/6 [==============================] - 0s 2ms/step - loss: 0.9379 - lr: 1.0000e-04\n",
            "Epoch 88/200\n",
            "6/6 [==============================] - 0s 2ms/step - loss: 0.8882 - lr: 1.0000e-04\n",
            "Epoch 89/200\n",
            "6/6 [==============================] - 0s 1ms/step - loss: 0.8718 - lr: 1.0000e-04\n",
            "Epoch 90/200\n",
            "6/6 [==============================] - 0s 1ms/step - loss: 0.8712 - lr: 1.0000e-04\n",
            "Epoch 91/200\n",
            "6/6 [==============================] - 0s 2ms/step - loss: 0.8863 - lr: 1.0000e-04\n",
            "Epoch 92/200\n",
            "6/6 [==============================] - 0s 1ms/step - loss: 0.8730 - lr: 1.0000e-04\n",
            "Epoch 93/200\n",
            "6/6 [==============================] - 0s 1ms/step - loss: 0.9132 - lr: 1.0000e-04\n",
            "Epoch 94/200\n",
            "6/6 [==============================] - 0s 1ms/step - loss: 0.9254 - lr: 1.0000e-04\n",
            "Epoch 95/200\n",
            "6/6 [==============================] - 0s 2ms/step - loss: 0.8753 - lr: 1.0000e-04\n",
            "Epoch 96/200\n",
            "6/6 [==============================] - 0s 1ms/step - loss: 0.8705 - lr: 1.0000e-04\n",
            "Epoch 97/200\n",
            "6/6 [==============================] - 0s 1ms/step - loss: 0.8714 - lr: 1.0000e-04\n",
            "Epoch 98/200\n",
            "6/6 [==============================] - 0s 1ms/step - loss: 0.8781 - lr: 1.0000e-04\n",
            "Epoch 99/200\n",
            "6/6 [==============================] - 0s 1ms/step - loss: 0.8785 - lr: 1.0000e-04\n",
            "Epoch 100/200\n",
            "6/6 [==============================] - 0s 2ms/step - loss: 0.8672 - lr: 1.0000e-04\n",
            "Epoch 101/200\n",
            "6/6 [==============================] - 0s 2ms/step - loss: 0.8774 - lr: 1.0000e-04\n",
            "Epoch 102/200\n",
            "6/6 [==============================] - 0s 2ms/step - loss: 0.8786 - lr: 1.0000e-04\n",
            "Epoch 103/200\n",
            "6/6 [==============================] - 0s 1ms/step - loss: 0.8738 - lr: 1.0000e-04\n",
            "Epoch 104/200\n",
            "6/6 [==============================] - 0s 1ms/step - loss: 0.8743 - lr: 1.0000e-04\n",
            "Epoch 105/200\n",
            "6/6 [==============================] - 0s 1ms/step - loss: 0.8721 - lr: 1.0000e-04\n",
            "Epoch 106/200\n",
            "6/6 [==============================] - 0s 1ms/step - loss: 0.8718 - lr: 1.0000e-04\n",
            "Epoch 107/200\n",
            "6/6 [==============================] - 0s 2ms/step - loss: 0.8714 - lr: 1.0000e-04\n",
            "Epoch 108/200\n",
            "6/6 [==============================] - 0s 1ms/step - loss: 0.8693 - lr: 1.0000e-04\n",
            "Epoch 109/200\n",
            "6/6 [==============================] - 0s 1ms/step - loss: 0.8820 - lr: 1.0000e-04\n",
            "Epoch 110/200\n",
            "6/6 [==============================] - 0s 1ms/step - loss: 0.8820 - lr: 1.0000e-04\n",
            "Epoch 111/200\n",
            "6/6 [==============================] - 0s 1ms/step - loss: 0.8761 - lr: 1.0000e-04\n",
            "Epoch 112/200\n",
            "6/6 [==============================] - 0s 1ms/step - loss: 0.8783 - lr: 1.0000e-04\n",
            "Epoch 113/200\n",
            "6/6 [==============================] - 0s 1ms/step - loss: 0.8757 - lr: 1.0000e-04\n",
            "Epoch 114/200\n",
            "6/6 [==============================] - 0s 1ms/step - loss: 0.8720 - lr: 1.0000e-04\n",
            "Epoch 115/200\n",
            "6/6 [==============================] - 0s 1ms/step - loss: 0.8721 - lr: 1.0000e-04\n",
            "Epoch 116/200\n",
            "6/6 [==============================] - 0s 2ms/step - loss: 0.8707 - lr: 1.0000e-04\n",
            "Epoch 117/200\n",
            "6/6 [==============================] - 0s 2ms/step - loss: 0.8718 - lr: 1.0000e-04\n",
            "Epoch 118/200\n",
            "6/6 [==============================] - 0s 1ms/step - loss: 0.8707 - lr: 1.0000e-04\n",
            "Epoch 119/200\n",
            "6/6 [==============================] - 0s 1ms/step - loss: 0.8764 - lr: 1.0000e-04\n",
            "Epoch 120/200\n",
            "6/6 [==============================] - 0s 1ms/step - loss: 0.8782 - lr: 1.0000e-04\n",
            "Epoch 121/200\n",
            "6/6 [==============================] - 0s 2ms/step - loss: 0.8749 - lr: 1.0000e-04\n",
            "Epoch 122/200\n",
            "6/6 [==============================] - 0s 2ms/step - loss: 0.8743 - lr: 1.0000e-04\n",
            "Epoch 123/200\n",
            "6/6 [==============================] - 0s 2ms/step - loss: 0.8720 - lr: 1.0000e-04\n",
            "Epoch 124/200\n",
            "6/6 [==============================] - 0s 2ms/step - loss: 0.8731 - lr: 1.0000e-04\n",
            "Epoch 125/200\n",
            "6/6 [==============================] - 0s 1ms/step - loss: 0.8728 - lr: 1.0000e-04\n",
            "Epoch 126/200\n",
            "6/6 [==============================] - 0s 1ms/step - loss: 0.8704 - lr: 1.0000e-04\n",
            "Epoch 127/200\n",
            "6/6 [==============================] - 0s 1ms/step - loss: 0.8715 - lr: 1.0000e-04\n",
            "Epoch 128/200\n",
            "6/6 [==============================] - 0s 1ms/step - loss: 0.8757 - lr: 1.0000e-04\n",
            "Epoch 129/200\n",
            "6/6 [==============================] - 0s 1ms/step - loss: 0.8760 - lr: 1.0000e-04\n",
            "Epoch 130/200\n",
            "6/6 [==============================] - 0s 2ms/step - loss: 0.8841 - lr: 1.0000e-04\n",
            "Epoch 131/200\n",
            "6/6 [==============================] - 0s 2ms/step - loss: 0.8760 - lr: 1.0000e-04\n",
            "Epoch 132/200\n",
            "6/6 [==============================] - 0s 2ms/step - loss: 0.8844 - lr: 1.0000e-04\n",
            "Epoch 133/200\n",
            "6/6 [==============================] - 0s 2ms/step - loss: 0.8818 - lr: 1.0000e-04\n",
            "Epoch 134/200\n",
            "6/6 [==============================] - 0s 1ms/step - loss: 0.8743 - lr: 1.0000e-04\n",
            "Epoch 135/200\n",
            "6/6 [==============================] - 0s 1ms/step - loss: 0.8746 - lr: 1.0000e-04\n",
            "Epoch 136/200\n",
            "6/6 [==============================] - 0s 1ms/step - loss: 0.8725 - lr: 1.0000e-04\n",
            "Epoch 137/200\n",
            "6/6 [==============================] - 0s 2ms/step - loss: 0.8811 - lr: 1.0000e-04\n",
            "Epoch 138/200\n",
            "6/6 [==============================] - 0s 2ms/step - loss: 0.8868 - lr: 1.0000e-04\n",
            "Epoch 139/200\n",
            "6/6 [==============================] - 0s 2ms/step - loss: 0.8740 - lr: 1.0000e-04\n",
            "Epoch 140/200\n",
            "6/6 [==============================] - 0s 2ms/step - loss: 0.8737 - lr: 1.0000e-04\n",
            "Epoch 141/200\n",
            "6/6 [==============================] - 0s 2ms/step - loss: 0.8698 - lr: 1.0000e-04\n",
            "Epoch 142/200\n",
            "6/6 [==============================] - 0s 2ms/step - loss: 0.8848 - lr: 1.0000e-04\n",
            "Epoch 143/200\n",
            "6/6 [==============================] - 0s 2ms/step - loss: 0.8795 - lr: 1.0000e-04\n",
            "Epoch 144/200\n",
            "6/6 [==============================] - 0s 1ms/step - loss: 0.8686 - lr: 1.0000e-04\n",
            "Epoch 145/200\n",
            "6/6 [==============================] - 0s 1ms/step - loss: 0.9048 - lr: 1.0000e-04\n",
            "Epoch 146/200\n",
            "6/6 [==============================] - 0s 1ms/step - loss: 0.8864 - lr: 1.0000e-04\n",
            "Epoch 147/200\n",
            "6/6 [==============================] - 0s 2ms/step - loss: 0.8715 - lr: 1.0000e-04\n",
            "Epoch 148/200\n",
            "6/6 [==============================] - 0s 1ms/step - loss: 0.8847 - lr: 1.0000e-04\n",
            "Epoch 149/200\n",
            "6/6 [==============================] - 0s 1ms/step - loss: 0.8709 - lr: 1.0000e-04\n",
            "Epoch 150/200\n",
            "6/6 [==============================] - 0s 2ms/step - loss: 0.8732 - lr: 1.0000e-04\n",
            "Epoch 151/200\n",
            "6/6 [==============================] - 0s 2ms/step - loss: 0.8735 - lr: 1.0000e-04\n",
            "Epoch 152/200\n",
            "6/6 [==============================] - 0s 1ms/step - loss: 0.8765 - lr: 1.0000e-04\n",
            "Epoch 153/200\n",
            "6/6 [==============================] - 0s 1ms/step - loss: 0.8752 - lr: 1.0000e-04\n",
            "Epoch 154/200\n",
            "6/6 [==============================] - 0s 1ms/step - loss: 0.8722 - lr: 1.0000e-04\n",
            "Epoch 155/200\n",
            "6/6 [==============================] - 0s 2ms/step - loss: 0.8711 - lr: 1.0000e-04\n",
            "Epoch 156/200\n",
            "6/6 [==============================] - 0s 1ms/step - loss: 0.8798 - lr: 1.0000e-04\n",
            "Epoch 157/200\n",
            "6/6 [==============================] - 0s 1ms/step - loss: 0.9082 - lr: 1.0000e-04\n",
            "Epoch 158/200\n",
            "6/6 [==============================] - 0s 1ms/step - loss: 0.9205 - lr: 1.0000e-04\n",
            "Epoch 159/200\n",
            "6/6 [==============================] - 0s 1ms/step - loss: 0.8748 - lr: 1.0000e-04\n",
            "Epoch 160/200\n",
            "6/6 [==============================] - 0s 1ms/step - loss: 0.8715 - lr: 1.0000e-04\n",
            "Epoch 161/200\n",
            "6/6 [==============================] - 0s 1ms/step - loss: 0.8699 - lr: 1.0000e-04\n",
            "Epoch 162/200\n",
            "6/6 [==============================] - 0s 1ms/step - loss: 0.8704 - lr: 1.0000e-04\n",
            "Epoch 163/200\n",
            "6/6 [==============================] - 0s 2ms/step - loss: 0.8756 - lr: 1.0000e-04\n",
            "Epoch 164/200\n",
            "6/6 [==============================] - 0s 2ms/step - loss: 0.8826 - lr: 1.0000e-04\n",
            "Epoch 165/200\n",
            "6/6 [==============================] - 0s 2ms/step - loss: 0.8734 - lr: 1.0000e-04\n",
            "Epoch 166/200\n",
            "6/6 [==============================] - 0s 2ms/step - loss: 0.8679 - lr: 1.0000e-04\n",
            "Epoch 167/200\n",
            "6/6 [==============================] - 0s 2ms/step - loss: 0.8725 - lr: 1.0000e-04\n",
            "Epoch 168/200\n",
            "6/6 [==============================] - 0s 1ms/step - loss: 0.9025 - lr: 1.0000e-04\n",
            "Epoch 169/200\n",
            "6/6 [==============================] - 0s 1ms/step - loss: 0.9197 - lr: 1.0000e-04\n",
            "Epoch 170/200\n",
            "6/6 [==============================] - 0s 1ms/step - loss: 0.8781 - lr: 1.0000e-04\n",
            "Epoch 171/200\n",
            "6/6 [==============================] - 0s 2ms/step - loss: 0.8835 - lr: 1.0000e-04\n",
            "Epoch 172/200\n",
            "6/6 [==============================] - 0s 1ms/step - loss: 0.9090 - lr: 1.0000e-04\n",
            "Epoch 173/200\n",
            "6/6 [==============================] - 0s 2ms/step - loss: 0.8816 - lr: 1.0000e-04\n",
            "Epoch 174/200\n",
            "6/6 [==============================] - 0s 1ms/step - loss: 0.8727 - lr: 1.0000e-04\n",
            "Epoch 175/200\n",
            "6/6 [==============================] - 0s 2ms/step - loss: 0.8807 - lr: 1.0000e-04\n",
            "Epoch 176/200\n",
            "6/6 [==============================] - 0s 2ms/step - loss: 0.8765 - lr: 1.0000e-04\n",
            "Epoch 177/200\n",
            "6/6 [==============================] - 0s 1ms/step - loss: 0.8717 - lr: 1.0000e-04\n",
            "Epoch 178/200\n",
            "6/6 [==============================] - 0s 2ms/step - loss: 0.8737 - lr: 1.0000e-04\n",
            "Epoch 179/200\n",
            "6/6 [==============================] - 0s 2ms/step - loss: 0.8726 - lr: 1.0000e-04\n",
            "Epoch 180/200\n",
            "6/6 [==============================] - 0s 2ms/step - loss: 0.8710 - lr: 1.0000e-04\n",
            "Epoch 181/200\n",
            "6/6 [==============================] - 0s 1ms/step - loss: 0.8721 - lr: 1.0000e-04\n",
            "Epoch 182/200\n",
            "6/6 [==============================] - 0s 1ms/step - loss: 0.8728 - lr: 1.0000e-04\n",
            "Epoch 183/200\n",
            "6/6 [==============================] - 0s 1ms/step - loss: 0.8882 - lr: 1.0000e-04\n",
            "Epoch 184/200\n",
            "6/6 [==============================] - 0s 1ms/step - loss: 0.8850 - lr: 1.0000e-04\n",
            "Epoch 185/200\n",
            "6/6 [==============================] - 0s 1ms/step - loss: 0.8728 - lr: 1.0000e-04\n",
            "Epoch 186/200\n",
            "6/6 [==============================] - 0s 1ms/step - loss: 0.8729 - lr: 1.0000e-04\n",
            "Epoch 187/200\n",
            "6/6 [==============================] - 0s 2ms/step - loss: 0.8722 - lr: 1.0000e-04\n",
            "Epoch 188/200\n",
            "6/6 [==============================] - 0s 1ms/step - loss: 0.8884 - lr: 1.0000e-04\n",
            "Epoch 189/200\n",
            "6/6 [==============================] - 0s 2ms/step - loss: 0.8712 - lr: 1.0000e-04\n",
            "Epoch 190/200\n",
            "6/6 [==============================] - 0s 1ms/step - loss: 0.9140 - lr: 1.0000e-04\n",
            "Epoch 191/200\n",
            "6/6 [==============================] - 0s 1ms/step - loss: 0.8907 - lr: 1.0000e-04\n",
            "Epoch 192/200\n",
            "6/6 [==============================] - 0s 1ms/step - loss: 0.8754 - lr: 1.0000e-04\n",
            "Epoch 193/200\n",
            "6/6 [==============================] - 0s 1ms/step - loss: 0.8844 - lr: 1.0000e-04\n",
            "Epoch 194/200\n",
            "6/6 [==============================] - 0s 1ms/step - loss: 0.8754 - lr: 1.0000e-04\n",
            "Epoch 195/200\n",
            "6/6 [==============================] - 0s 1ms/step - loss: 0.8757 - lr: 1.0000e-04\n",
            "Epoch 196/200\n",
            "6/6 [==============================] - 0s 2ms/step - loss: 0.8717 - lr: 1.0000e-04\n",
            "Epoch 197/200\n",
            "6/6 [==============================] - 0s 2ms/step - loss: 0.8703 - lr: 1.0000e-04\n",
            "Epoch 198/200\n",
            "6/6 [==============================] - 0s 1ms/step - loss: 0.8843 - lr: 1.0000e-04\n",
            "Epoch 199/200\n",
            "6/6 [==============================] - 0s 2ms/step - loss: 0.8783 - lr: 1.0000e-04\n",
            "Epoch 200/200\n",
            "6/6 [==============================] - 0s 1ms/step - loss: 0.8849 - lr: 1.0000e-04\n"
          ],
          "name": "stdout"
        }
      ]
    },
    {
      "cell_type": "code",
      "metadata": {
        "id": "wjgCuJ8OmJHS",
        "colab_type": "code",
        "colab": {
          "base_uri": "https://localhost:8080/",
          "height": 34
        },
        "outputId": "d207159c-0475-4bf9-8533-d65d50135b7b"
      },
      "source": [
        "r.history.keys()"
      ],
      "execution_count": 9,
      "outputs": [
        {
          "output_type": "execute_result",
          "data": {
            "text/plain": [
              "dict_keys(['loss', 'lr'])"
            ]
          },
          "metadata": {
            "tags": []
          },
          "execution_count": 9
        }
      ]
    },
    {
      "cell_type": "code",
      "metadata": {
        "id": "jk6ZHn-Fl-lk",
        "colab_type": "code",
        "colab": {
          "base_uri": "https://localhost:8080/",
          "height": 279
        },
        "outputId": "efd47a30-2ff7-4411-da77-8dcb42a6f56f"
      },
      "source": [
        "# Plot the loss\n",
        "plt.plot(r.history['loss'], label='loss')\n",
        "plt.xlabel('Epochs')\n",
        "plt.ylabel('Loss')\n",
        "plt.show()"
      ],
      "execution_count": 10,
      "outputs": [
        {
          "output_type": "display_data",
          "data": {
            "image/png": "[encoded data removed]",
            "text/plain": [
              "<Figure size 432x288 with 1 Axes>"
            ]
          },
          "metadata": {
            "tags": [],
            "needs_background": "light"
          }
        }
      ]
    },
    {
      "cell_type": "code",
      "metadata": {
        "id": "oXbNdLWemTga",
        "colab_type": "code",
        "colab": {
          "base_uri": "https://localhost:8080/",
          "height": 34
        },
        "outputId": "6e79d093-2f43-46d8-b275-5c7a912d51a4"
      },
      "source": [
        "# Model weights\n",
        "print(model.layers[0].get_weights())"
      ],
      "execution_count": 11,
      "outputs": [
        {
          "output_type": "stream",
          "text": [
            "[array([[0.33099297]], dtype=float32), array([17.755705], dtype=float32)]\n"
          ],
          "name": "stdout"
        }
      ]
    },
    {
      "cell_type": "code",
      "metadata": {
        "id": "YYan0rzXnDgb",
        "colab_type": "code",
        "colab": {
          "base_uri": "https://localhost:8080/",
          "height": 34
        },
        "outputId": "63652137-1714-42dd-ba59-60b480d29a80"
      },
      "source": [
        "# Slope of regression line\n",
        "a = model.layers[0].get_weights()[0][0,0]\n",
        "print(a)"
      ],
      "execution_count": 12,
      "outputs": [
        {
          "output_type": "stream",
          "text": [
            "0.33099297\n"
          ],
          "name": "stdout"
        }
      ]
    },
    {
      "cell_type": "markdown",
      "metadata": {
        "id": "ut2pip23pS6J",
        "colab_type": "text"
      },
      "source": [
        "Our original model for exponential growth is:\n",
        "\n",
        "$$ C = A_0 r^t $$\n",
        "\n",
        "Where $ C $ is the transistor count and $ t $ is the year.\n",
        "\n",
        "$ r $ is the rate of growth. For example, when $ t $ goes from 1 to 2, $ C $ increases by a factor of $ r $. When $ t $ goes from 2 to 3, $ C $ increases by a factor of $ r $ again.\n",
        "\n",
        "When we take the log of both sides, we get:\n",
        "\n",
        "$$ \\log C = \\log r * t + \\log A_0 $$\n",
        "\n",
        "This is our linear equation:\n",
        "\n",
        "$$ \\hat{y} = ax + b $$\n",
        "\n",
        "Where:\n",
        "\n",
        "$$ \\hat{y} = \\log C $$\n",
        "$$ a = \\log r $$\n",
        "$$ x = t $$\n",
        "$$ b = \\log A_0 $$\n",
        "\n",
        "We are interested in $ r $, because that's the rate of growth. Given our regression weights, we know that:\n",
        "\n",
        "$$ a = 0.34188038 $$\n",
        "\n",
        "so that:\n",
        "\n",
        "$$ r = e^{0.34188038} = 1.4076 $$\n",
        "\n",
        "To find the time it takes for transistor count to double, we simply need to find the amount of time it takes for $ C $ to increase to $ 2C $.\n",
        "\n",
        "Let's call the original starting time $ t $, to correspond with the initial transistor count $ C $.\n",
        "\n",
        "Let's call the end time $ t' $, to correspond with the final transistor count $ 2C $.\n",
        "\n",
        "Then we also have:\n",
        "\n",
        "$$ 2C = A_0 r ^ {t'} $$\n",
        "\n",
        "Combine this with our original equation:\n",
        "\n",
        "$$ C = A_0 r^t $$\n",
        "\n",
        "We get (by dividing the 2 equations):\n",
        "\n",
        "$$ 2C/C = (A_0 r ^ {t'}) / A_0 r^t $$\n",
        "\n",
        "Which simplifies to:\n",
        "\n",
        "$$ 2 = r^{(t' - t)} $$\n",
        "\n",
        "Solve for $ t' - t $:\n",
        "\n",
        "$$ t' - t = \\frac{\\log 2}{\\log r} = \\frac{\\log2}{a}$$\n",
        "\n",
        "\n",
        "This holds for any $ t $. In other words, the growth rate does not change over time."
      ]
    },
    {
      "cell_type": "code",
      "metadata": {
        "id": "QTMCeD1ZpYxB",
        "colab_type": "code",
        "colab": {
          "base_uri": "https://localhost:8080/",
          "height": 34
        },
        "outputId": "66d03fe0-62d1-4928-8446-8a2ba76e18eb"
      },
      "source": [
        "print(\"Number of transistors doubles in about {} years.\".format(np.round(np.log(2)/a)))"
      ],
      "execution_count": 13,
      "outputs": [
        {
          "output_type": "stream",
          "text": [
            "Number of transistors doubles in about 2.0 years.\n"
          ],
          "name": "stdout"
        }
      ]
    },
    {
      "cell_type": "code",
      "metadata": {
        "id": "8xB4Z353RKO7",
        "colab_type": "code",
        "colab": {
          "base_uri": "https://localhost:8080/",
          "height": 265
        },
        "outputId": "eeba1a74-2c39-45fe-845e-30f937018f8c"
      },
      "source": [
        "# Make predictions\n",
        "Y_hat = model.predict(X).flatten()\n",
        "plt.scatter(X, Y)\n",
        "plt.plot(X, Y_hat)\n",
        "plt.show()"
      ],
      "execution_count": 14,
      "outputs": [
        {
          "output_type": "display_data",
          "data": {
            "image/png": "[encoded data removed]",
            "text/plain": [
              "<Figure size 432x288 with 1 Axes>"
            ]
          },
          "metadata": {
            "tags": [],
            "needs_background": "light"
          }
        }
      ]
    },
    {
      "cell_type": "code",
      "metadata": {
        "id": "sbt3ilCZ-kSh",
        "colab_type": "code",
        "colab": {
          "base_uri": "https://localhost:8080/",
          "height": 34
        },
        "outputId": "427b7c2c-033c-489e-f960-f1f8e6e8eecf"
      },
      "source": [
        "# Predict with model coefficients\n",
        "\n",
        "# Get the model coefficients\n",
        "w, b = model.layers[0].get_weights()\n",
        "\n",
        "#X = X.reshape(-1, 1)\n",
        "\n",
        "Y_hat2 = (np.dot(X, w) + b).flatten()\n",
        "\n",
        "np.allclose(Y_hat, Y_hat2)"
      ],
      "execution_count": 15,
      "outputs": [
        {
          "output_type": "execute_result",
          "data": {
            "text/plain": [
              "True"
            ]
          },
          "metadata": {
            "tags": []
          },
          "execution_count": 15
        }
      ]
    }
  ]
}